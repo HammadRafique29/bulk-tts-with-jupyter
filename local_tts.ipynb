{
 "cells": [
  {
   "cell_type": "code",
   "execution_count": null,
   "metadata": {
    "id": "4uyDqlLLWMEo"
   },
   "outputs": [],
   "source": [
    "\n",
    "# \"Adam, Alice, Aria, Bill, George, Lilly, Reacheal, Sarah\",  \"Alex\", \"Arabella\", \"Bill L. Oxley\", \"BRIAN.wav\", \"Brittney\", \"Dramatic British.wav\",\n",
    "# \"Heather Rey\", \"John Fernandes\", \"Laura\", \"Mark\", \"Matilda\", \"Roger\", \"Sally Ford\", \"SARAH\", \"Tim Rooney\", \"Todd Thomas\", \"Tyrone\", \"Realistic_Male\", \"realistic_male_2\"\n",
    "# \"F5TTS_Male\"\n",
    "\n",
    "# ['en', 'es', 'fr', 'de', 'it', 'pt', 'pl', 'tr', 'ru', 'nl', 'cs', 'ar', 'zh-cn', 'hu', 'ko', 'ja', 'hi']\n",
    "\n",
    "VOICE_TYPE = \"SARAH\"\n",
    "LANGUAGE = \"en\"\n",
    "\n",
    "SHEET_ID  = \"1BGuyZ-mkJ0L2O_nztQko8OrYjs0MJBu98t2-57HdKjc\"\n",
    "SHEET_URL = f'https://docs.google.com/spreadsheets/d/{SHEET_ID}/export?format=csv'\n"
   ]
  },
  {
   "cell_type": "code",
   "execution_count": null,
   "metadata": {
    "id": "GwJHHrwaKmzF"
   },
   "outputs": [],
   "source": [
    "!pip install --upgrade tensorflow\n",
    "# !pip install --upgrade numpy==1.22.0\n",
    "!pip install gspread\n",
    "!pip install cython>=0.29.30\n",
    "!pip install torch>=2.1\n",
    "!pip install anyascii>=0.3.0\n",
    "!pip install pyyaml>=6.0\n",
    "!pip install fsspec>=2023.6.0\n",
    "!pip install aiohttp>=3.8.1\n",
    "!pip install packaging>=23.1\n",
    "!pip install TTS\n",
    "!pip install gradio\n",
    "!pip install openpyxl\n",
    "!pip install gdown"
   ]
  },
  {
   "cell_type": "code",
   "execution_count": null,
   "metadata": {
    "id": "9FSaGg6jOa5t"
   },
   "outputs": [],
   "source": [
    "import torch\n",
    "from TTS.api import TTS\n",
    "import random\n",
    "import os\n",
    "import pandas as pd\n",
    "import gdown\n",
    "import random\n",
    "import time\n",
    "import shutil"
   ]
  },
  {
   "cell_type": "code",
   "execution_count": null,
   "metadata": {
    "id": "Y0HKk7rpN4ij"
   },
   "outputs": [],
   "source": [
    "WORKIND_DIR = \"Mouce_TTS_Outout\"\n",
    "SPEAKERS_DIR = os.path.join(f\"./{WORKIND_DIR}\", \"Speakers\")\n",
    "WAV_FILES = str(os.path.join(f\"./{WORKIND_DIR}\", \"Audios\"))\n",
    "\n",
    "if not os.path.exists(WORKIND_DIR): os.mkdir(WORKIND_DIR)\n",
    "if not os.path.exists(SPEAKERS_DIR): os.mkdir(SPEAKERS_DIR)\n",
    "if not os.path.exists(WAV_FILES): os.mkdir(WAV_FILES)\n"
   ]
  },
  {
   "cell_type": "markdown",
   "metadata": {
    "id": "6uRHgjpTPXYQ"
   },
   "source": [
    "##############################################################################\n",
    "\n",
    "# **MAIN CODE BELOW**\n"
   ]
  },
  {
   "cell_type": "code",
   "execution_count": null,
   "metadata": {
    "id": "d1jVdCezPPRA"
   },
   "outputs": [],
   "source": [
    "\n",
    "class TEXT_TO_SPEECH:\n",
    "    def __init__(self) -> None:\n",
    "      device = \"cuda\" if torch.cuda.is_available() else \"cpu\"\n",
    "      print(TTS().list_models())\n",
    "      from unittest.mock import patch\n",
    "      with patch('builtins.input', return_value='y'):\n",
    "        self.tts = TTS(\"tts_models/multilingual/multi-dataset/xtts_v2\").to(device)\n",
    "      # self.tts = TTS(\"tts_models/multilingual/multi-dataset/xtts_v1.1\").to(device)\n",
    "      # self.tts = TTS(\"tts_models/bg/cv/vits\").to(device)\n",
    "\n",
    "      self.VOICES = {\n",
    "        'Adam': '1dJA6oL9g8OPlFtWPWebos8EJssPhcF_U',\n",
    "        'Alice': '1uSorJ01N5veelDiXrOJylMoH2Iu4MjFz',\n",
    "        'Aria': '1XaNapPMehklx2WqYI2oHgKtEx6NZHeD0',\n",
    "        'Bill': '1oMrRsqouYEB9TjArajC_yEUVtqniPTNv',\n",
    "        'George': '1OCBJR5r1OLMPLGCY1GyaQ_7zBjDUBRX8',\n",
    "        'Lily': '1j2es6mPX552NwblDK0TvuP99kU8IsWdA',\n",
    "        'Reachel': '1SIfGSOO1M59emMQ1xtyXUuaD9bsGNWs3',\n",
    "        'Sarah': '17NAJuGqQ6xcJJNxZgxoARWzQAprNDhhx',\n",
    "        \"Alex\": \"1mzlMLVS6K_YN3dZ-pKBysX7urx7UcEtQ\",\n",
    "        \"SARAH\": \"1_o2dXyX3rJlJI_9R6Vkk1XisJnvYjKZ1\",\n",
    "        \"Realistic_Male\": \"1GGnXLSmR2Y2MQF-wuodie4FbAxw876mH\",\n",
    "        \"realistic_male_2\": \"1bdTSj6__QMCD-5rPWh9eFfqwzhTkqc6H\",\n",
    "        \"F5TTS_Male\": \"1Mngf-Q63uP1X469iCKlsELWugSE8oS8B\",\n",
    "        \"Realistic_Man_Voice_[Short]\": \"13OA70vrlziGfcUPC4fSmRw9i5uTZIQgl\"\n",
    "      }\n",
    "      self.LANGUAGES = ['en', 'es', 'fr', 'de', 'it', 'pt', 'pl', 'tr', 'ru', 'nl', 'cs', 'ar', 'zh-cn', 'hu', 'ko', 'ja', 'hi']\n",
    "\n",
    "\n",
    "    def transcribe(self, message, voice, lang):\n",
    "      if lang not in self.LANGUAGES:\n",
    "        print(\"LANGUAGE NOT FOUND... PLEASE SELECT VALID ONE\")\n",
    "        return None\n",
    "\n",
    "      file_path = str(os.path.join(WAV_FILES, f\"output_voice_{random.randrange(11111, 99999)}.wav\"))\n",
    "      self.tts.tts_to_file(text=message, speaker_wav=str(voice), language=lang, file_path=file_path)\n",
    "      return file_path\n",
    "\n",
    "def download_speaker(id, name):\n",
    "  download_url = f'https://drive.google.com/uc?id={id}'\n",
    "  output_file = f\"{os.path.join(SPEAKERS_DIR, f'{name}.wav')}\"\n",
    "  gdown.download(download_url, output_file, quiet=False)\n",
    "  time.sleep(2)\n"
   ]
  },
  {
   "cell_type": "code",
   "execution_count": null,
   "metadata": {
    "id": "IbklWFKhMOtp"
   },
   "outputs": [],
   "source": [
    "AUDIO_FILES = []\n",
    "FILTERED = []\n",
    "TTS_OBJ = TEXT_TO_SPEECH()\n",
    "\n",
    "url = SHEET_URL\n",
    "df = pd.read_csv(url, header=None)\n",
    "df_af = df.iloc[:, 0:6]\n",
    "nested_list = df_af.values.tolist()\n",
    "# print(nested_list)\n"
   ]
  },
  {
   "cell_type": "code",
   "execution_count": null,
   "metadata": {
    "id": "Cz3zt57I8g-r"
   },
   "outputs": [],
   "source": [
    "FILTERED_LiST = []\n",
    "for i in nested_list:\n",
    "  temp = [i[0], i[1], i[2]]\n",
    "  FILTERED_LiST.append(temp)\n",
    "\n",
    "# print(FILTERED_LiST)\n",
    "nested_list = FILTERED_LiST\n",
    "\n"
   ]
  },
  {
   "cell_type": "code",
   "execution_count": null,
   "metadata": {
    "id": "X_mSkZLCzWWO"
   },
   "outputs": [],
   "source": [
    "for message in nested_list:\n",
    "  temp = []\n",
    "  for i in message:\n",
    "    if not os.path.exists(f\"{SPEAKERS_DIR}/{VOICE_TYPE}.wav\"): download_speaker(TTS_OBJ.VOICES[VOICE_TYPE], VOICE_TYPE)\n",
    "    file_path = TTS_OBJ.transcribe(i, f\"{SPEAKERS_DIR}/{VOICE_TYPE}.wav\", LANGUAGE)\n",
    "    if file_path: temp.append(os.path.basename(file_path))\n",
    "  AUDIO_FILES.append(temp)\n",
    "# print(AUDIO_FILES)\n"
   ]
  },
  {
   "cell_type": "code",
   "execution_count": null,
   "metadata": {
    "id": "SNJHszif5bk4"
   },
   "outputs": [],
   "source": [
    "RESULTS = []\n",
    "print(AUDIO_FILES)\n",
    "for index, i in enumerate(nested_list):\n",
    "  RESULTS.append(i + AUDIO_FILES[index])\n"
   ]
  },
  {
   "cell_type": "code",
   "execution_count": null,
   "metadata": {
    "id": "6J_tZ6Ma68ZR"
   },
   "outputs": [],
   "source": [
    "df = pd.DataFrame(RESULTS)\n",
    "output_file =  os.path.join(WORKIND_DIR, 'data.xlsx')\n",
    "df.to_excel(output_file, index=False, header=False)\n",
    "print(f\"Data has been saved to {output_file}\")"
   ]
  },
  {
   "cell_type": "code",
   "execution_count": null,
   "metadata": {
    "id": "RROotLcnawrZ"
   },
   "outputs": [],
   "source": [
    "import shutil\n",
    "from IPython.display import FileLink\n",
    "\n",
    "folder_name = WORKIND_DIR\n",
    "zip_name = 'text_to_speech.zip'\n",
    "shutil.make_archive(zip_name.replace('.zip', ''), 'zip', folder_name)\n",
    "\n",
    "display(FileLink(zip_name))\n"
   ]
  },
  {
   "cell_type": "code",
   "execution_count": null,
   "metadata": {
    "id": "vIZ2_kCDG2rN"
   },
   "outputs": [],
   "source": [
    "# TTS_OBJ = TEXT_TO_SPEECH()\n",
    "# download_speaker(TTS_OBJ.VOICES[VOICE_TYPE], VOICE_TYPE)\n",
    "\n",
    "# temp = \"\"\"\n",
    "# I don't really care what you call me. I've been a silent spectator, watching species evolve, empires rise and fall. But always remember, I am mighty and enduring. Respect me and I'll nurture you; ignore me and you shall face the consequences.\n",
    "# \"\"\"\n",
    "\n",
    "# file_path = TTS_OBJ.transcribe(temp, f\"{SPEAKERS_DIR}/{VOICE_TYPE}.wav\", LANGUAGE)\n",
    "# file_path"
   ]
  }
 ],
 "metadata": {
  "accelerator": "GPU",
  "colab": {
   "gpuType": "T4",
   "provenance": []
  },
  "kernelspec": {
   "display_name": "Python 3",
   "name": "python3"
  },
  "language_info": {
   "codemirror_mode": {
    "name": "ipython",
    "version": 3
   },
   "file_extension": ".py",
   "mimetype": "text/x-python",
   "name": "python",
   "nbconvert_exporter": "python",
   "pygments_lexer": "ipython3",
   "version": "3.10.12"
  }
 },
 "nbformat": 4,
 "nbformat_minor": 0
}
